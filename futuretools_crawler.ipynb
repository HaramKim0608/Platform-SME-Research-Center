{
 "cells": [
  {
   "cell_type": "code",
   "execution_count": 1,
   "id": "5825735e",
   "metadata": {},
   "outputs": [],
   "source": [
    "import pandas as pd\n",
    "from bs4 import BeautifulSoup as bs\n",
    "import requests\n",
    "import openpyxl\n",
    "from selenium import webdriver\n",
    "from selenium.webdriver.chrome.service import Service\n",
    "from selenium.webdriver.chrome.options import Options\n",
    "from selenium.webdriver.common.keys import Keys\n",
    "from selenium.webdriver.common.by import By\n",
    "from urllib.request import urlopen\n",
    "import time\n",
    "import random\n",
    "import re\n",
    "import csv"
   ]
  },
  {
   "cell_type": "code",
   "execution_count": 2,
   "id": "0efb5462",
   "metadata": {},
   "outputs": [],
   "source": [
    "# 크롬드라이버 실행 및 로그인\n",
    "options = Options()\n",
    "\n",
    "user_agent = \"Mozilla/5.0 (Windows NT 10.0; Win64; x64) AppleWebKit/537.36 (KHTML, like Gecko) Chrome/115.0.0.0 Safari/537.36\"\n",
    "options.add_argument('user-agent=' + user_agent)\n",
    "\n",
    "options.add_argument('--headless')\n",
    "options.add_argument('--no-sadnbox')\n",
    "options.add_argument('--disable-dev-shm-usage')\n",
    "\n",
    "service = Service(executable_path='C:/Users/USER/chromedriver.exe') # 크롬 드라이버 저장 위치로 변경\n",
    "\n",
    "## Solution of \"DevTools listening on ws\" Error \n",
    "options = webdriver.ChromeOptions()\n",
    "#options.add_argument(\"--proxy-server=socks5://127.0.0.1:9150\")\n",
    "options.add_experimental_option('excludeSwitches',['enable-logging'])\n",
    "\n",
    "driver = webdriver.Chrome(service=service,options=options)\n",
    "\n",
    "## 로그인\n",
    "driver.implicitly_wait(3)\n",
    "driver.get('https://www.futuretools.io/?tags-n5zn=generative-art')"
   ]
  },
  {
   "cell_type": "code",
   "execution_count": 52,
   "id": "0508812e",
   "metadata": {},
   "outputs": [],
   "source": [
    "# 검색 되는 기업\n",
    "\n",
    "html = driver.page_source\n",
    "soup = bs(html, 'html.parser')"
   ]
  },
  {
   "cell_type": "code",
   "execution_count": 53,
   "id": "c8a06d90",
   "metadata": {},
   "outputs": [],
   "source": [
    "items=[]\n",
    "dscrps=[]\n",
    "voteds=[]"
   ]
  },
  {
   "cell_type": "code",
   "execution_count": 54,
   "id": "3785f5a0",
   "metadata": {},
   "outputs": [],
   "source": [
    "item = soup.select('.tool-item-link---new')\n",
    "dscrp = soup.select('.tool-item-description-box---new')\n",
    "voted = soup.select('.list---not-upvoted')\n",
    "\n",
    "for i in item:\n",
    "    value = i.get_text()\n",
    "    items.append(value)\n",
    "\n",
    "for i in dscrp:\n",
    "    value = i.get_text()\n",
    "    dscrps.append(value)\n",
    "\n",
    "for i in voted:\n",
    "    value = i.get_text()\n",
    "    voteds.append(value)\n",
    "    \n",
    "itms=pd.DataFrame(items, columns=['items'])\n",
    "dscps=pd.DataFrame(dscrps,columns=['dscriptions'])\n",
    "vtds=pd.DataFrame(voteds,columns=['voted_num'])"
   ]
  },
  {
   "cell_type": "code",
   "execution_count": 55,
   "id": "5cae305c",
   "metadata": {},
   "outputs": [],
   "source": [
    "a=itms.join(dscps)"
   ]
  },
  {
   "cell_type": "code",
   "execution_count": 56,
   "id": "1a1308c5",
   "metadata": {},
   "outputs": [],
   "source": [
    "generative_art = a.join(vtds)"
   ]
  },
  {
   "cell_type": "code",
   "execution_count": 57,
   "id": "a6142f03",
   "metadata": {},
   "outputs": [],
   "source": [
    "generative_art.to_excel('./marketing.xlsx')"
   ]
  },
  {
   "cell_type": "code",
   "execution_count": null,
   "id": "ff36feea",
   "metadata": {},
   "outputs": [],
   "source": []
  }
 ],
 "metadata": {
  "kernelspec": {
   "display_name": "Python 3 (ipykernel)",
   "language": "python",
   "name": "python3"
  },
  "language_info": {
   "codemirror_mode": {
    "name": "ipython",
    "version": 3
   },
   "file_extension": ".py",
   "mimetype": "text/x-python",
   "name": "python",
   "nbconvert_exporter": "python",
   "pygments_lexer": "ipython3",
   "version": "3.9.13"
  }
 },
 "nbformat": 4,
 "nbformat_minor": 5
}
