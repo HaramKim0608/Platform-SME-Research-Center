{
 "cells": [
  {
   "cell_type": "code",
   "execution_count": 50,
   "id": "b28dbd9a",
   "metadata": {},
   "outputs": [],
   "source": [
    "import pandas as pd\n",
    "import numpy as np\n",
    "import datetime as dt\n",
    "from lifelines import KaplanMeierFitter\n",
    "from lifelines import NelsonAalenFitter\n",
    "from lifelines.statistics import logrank_test\n",
    "import matplotlib.pyplot as plt\n",
    "import matplotlib.font_manager as fm"
   ]
  },
  {
   "cell_type": "code",
   "execution_count": 9,
   "id": "c5c31003",
   "metadata": {
    "scrolled": true
   },
   "outputs": [
    {
     "data": {
      "text/html": [
       "<div>\n",
       "<style scoped>\n",
       "    .dataframe tbody tr th:only-of-type {\n",
       "        vertical-align: middle;\n",
       "    }\n",
       "\n",
       "    .dataframe tbody tr th {\n",
       "        vertical-align: top;\n",
       "    }\n",
       "\n",
       "    .dataframe thead th {\n",
       "        text-align: right;\n",
       "    }\n",
       "</style>\n",
       "<table border=\"1\" class=\"dataframe\">\n",
       "  <thead>\n",
       "    <tr style=\"text-align: right;\">\n",
       "      <th></th>\n",
       "      <th>registration_number</th>\n",
       "      <th>name</th>\n",
       "      <th>estdate</th>\n",
       "      <th>address_city</th>\n",
       "      <th>address_district</th>\n",
       "      <th>address_detail</th>\n",
       "      <th>service</th>\n",
       "      <th>service_details</th>\n",
       "      <th>country</th>\n",
       "      <th>category1</th>\n",
       "      <th>...</th>\n",
       "      <th>fd2_edu_schoolname3</th>\n",
       "      <th>fd2_edu_major3</th>\n",
       "      <th>fd2_career_firmname1</th>\n",
       "      <th>fd2_career_rank1</th>\n",
       "      <th>fd2_career_job1</th>\n",
       "      <th>fd2_career_dur1</th>\n",
       "      <th>fd2_career_firmname2</th>\n",
       "      <th>fd2_career_rank2</th>\n",
       "      <th>fd2_career_job2</th>\n",
       "      <th>fd2_career_dur2</th>\n",
       "    </tr>\n",
       "    <tr>\n",
       "      <th>id</th>\n",
       "      <th></th>\n",
       "      <th></th>\n",
       "      <th></th>\n",
       "      <th></th>\n",
       "      <th></th>\n",
       "      <th></th>\n",
       "      <th></th>\n",
       "      <th></th>\n",
       "      <th></th>\n",
       "      <th></th>\n",
       "      <th></th>\n",
       "      <th></th>\n",
       "      <th></th>\n",
       "      <th></th>\n",
       "      <th></th>\n",
       "      <th></th>\n",
       "      <th></th>\n",
       "      <th></th>\n",
       "      <th></th>\n",
       "      <th></th>\n",
       "      <th></th>\n",
       "    </tr>\n",
       "  </thead>\n",
       "  <tbody>\n",
       "    <tr>\n",
       "      <th>1</th>\n",
       "      <td>178-86-00272</td>\n",
       "      <td>가브린트</td>\n",
       "      <td>2015-11-05</td>\n",
       "      <td>제주</td>\n",
       "      <td>제주시</td>\n",
       "      <td>내도1길 23, 320호</td>\n",
       "      <td>와라페이</td>\n",
       "      <td>QR코드 기반 간편결제 서비스</td>\n",
       "      <td>한국</td>\n",
       "      <td>결제</td>\n",
       "      <td>...</td>\n",
       "      <td>NaN</td>\n",
       "      <td>NaN</td>\n",
       "      <td>NaN</td>\n",
       "      <td>NaN</td>\n",
       "      <td>NaN</td>\n",
       "      <td>NaN</td>\n",
       "      <td>NaN</td>\n",
       "      <td>NaN</td>\n",
       "      <td>NaN</td>\n",
       "      <td>NaN</td>\n",
       "    </tr>\n",
       "    <tr>\n",
       "      <th>2</th>\n",
       "      <td>384-81-01454</td>\n",
       "      <td>가이드라이브</td>\n",
       "      <td>2019-05-22</td>\n",
       "      <td>서울</td>\n",
       "      <td>중구</td>\n",
       "      <td>청계천로 40, 812호</td>\n",
       "      <td>가이드라이브</td>\n",
       "      <td>가이드/도슨트 매니지먼트 기반의 투어 서비스, 랜선 투어</td>\n",
       "      <td>한국</td>\n",
       "      <td>NaN</td>\n",
       "      <td>...</td>\n",
       "      <td>NaN</td>\n",
       "      <td>NaN</td>\n",
       "      <td>NaN</td>\n",
       "      <td>NaN</td>\n",
       "      <td>NaN</td>\n",
       "      <td>NaN</td>\n",
       "      <td>NaN</td>\n",
       "      <td>NaN</td>\n",
       "      <td>NaN</td>\n",
       "      <td>NaN</td>\n",
       "    </tr>\n",
       "    <tr>\n",
       "      <th>3</th>\n",
       "      <td>156-81-00883</td>\n",
       "      <td>가치공간</td>\n",
       "      <td>2018-01-01</td>\n",
       "      <td>서울</td>\n",
       "      <td>마포구</td>\n",
       "      <td>백범로31길 21, 808호</td>\n",
       "      <td>가치공간</td>\n",
       "      <td>백화점 유휴공간 공유 팝업 스토어 플랫폼</td>\n",
       "      <td>한국</td>\n",
       "      <td>리얼타임 커뮤니케이션</td>\n",
       "      <td>...</td>\n",
       "      <td>NaN</td>\n",
       "      <td>NaN</td>\n",
       "      <td>NaN</td>\n",
       "      <td>NaN</td>\n",
       "      <td>NaN</td>\n",
       "      <td>NaN</td>\n",
       "      <td>NaN</td>\n",
       "      <td>NaN</td>\n",
       "      <td>NaN</td>\n",
       "      <td>NaN</td>\n",
       "    </tr>\n",
       "    <tr>\n",
       "      <th>4</th>\n",
       "      <td>413-81-06460</td>\n",
       "      <td>갓차모빌라이즈(갓차)</td>\n",
       "      <td>2016-08-24</td>\n",
       "      <td>부산</td>\n",
       "      <td>수영구</td>\n",
       "      <td>광남로 214, 5층</td>\n",
       "      <td>갓차</td>\n",
       "      <td>정기구독형 방문 세차 중개 플랫폼</td>\n",
       "      <td>한국</td>\n",
       "      <td>리얼타임 커뮤니케이션</td>\n",
       "      <td>...</td>\n",
       "      <td>NaN</td>\n",
       "      <td>NaN</td>\n",
       "      <td>NaN</td>\n",
       "      <td>NaN</td>\n",
       "      <td>NaN</td>\n",
       "      <td>NaN</td>\n",
       "      <td>NaN</td>\n",
       "      <td>NaN</td>\n",
       "      <td>NaN</td>\n",
       "      <td>NaN</td>\n",
       "    </tr>\n",
       "    <tr>\n",
       "      <th>5</th>\n",
       "      <td>287-87-01121</td>\n",
       "      <td>같다</td>\n",
       "      <td>2018-03-20</td>\n",
       "      <td>서울</td>\n",
       "      <td>성동구</td>\n",
       "      <td>성수2가3동 277-43번지 4층 405비호</td>\n",
       "      <td>빼기</td>\n",
       "      <td>모바일 대형폐기물 수거 플랫폼</td>\n",
       "      <td>한국</td>\n",
       "      <td>리얼타임 커뮤니케이션</td>\n",
       "      <td>...</td>\n",
       "      <td>NaN</td>\n",
       "      <td>NaN</td>\n",
       "      <td>NaN</td>\n",
       "      <td>NaN</td>\n",
       "      <td>NaN</td>\n",
       "      <td>NaN</td>\n",
       "      <td>NaN</td>\n",
       "      <td>NaN</td>\n",
       "      <td>NaN</td>\n",
       "      <td>NaN</td>\n",
       "    </tr>\n",
       "    <tr>\n",
       "      <th>...</th>\n",
       "      <td>...</td>\n",
       "      <td>...</td>\n",
       "      <td>...</td>\n",
       "      <td>...</td>\n",
       "      <td>...</td>\n",
       "      <td>...</td>\n",
       "      <td>...</td>\n",
       "      <td>...</td>\n",
       "      <td>...</td>\n",
       "      <td>...</td>\n",
       "      <td>...</td>\n",
       "      <td>...</td>\n",
       "      <td>...</td>\n",
       "      <td>...</td>\n",
       "      <td>...</td>\n",
       "      <td>...</td>\n",
       "      <td>...</td>\n",
       "      <td>...</td>\n",
       "      <td>...</td>\n",
       "      <td>...</td>\n",
       "      <td>...</td>\n",
       "    </tr>\n",
       "    <tr>\n",
       "      <th>3910</th>\n",
       "      <td>821-81-01725</td>\n",
       "      <td>호텔가이드</td>\n",
       "      <td>2019-12-04</td>\n",
       "      <td>서울</td>\n",
       "      <td>노원구</td>\n",
       "      <td>동일로 1025, 4층</td>\n",
       "      <td>호텔가</td>\n",
       "      <td>단골추가 숙박예약 플랫폼</td>\n",
       "      <td>한국</td>\n",
       "      <td>NaN</td>\n",
       "      <td>...</td>\n",
       "      <td>NaN</td>\n",
       "      <td>NaN</td>\n",
       "      <td>NaN</td>\n",
       "      <td>NaN</td>\n",
       "      <td>NaN</td>\n",
       "      <td>NaN</td>\n",
       "      <td>NaN</td>\n",
       "      <td>NaN</td>\n",
       "      <td>NaN</td>\n",
       "      <td>NaN</td>\n",
       "    </tr>\n",
       "    <tr>\n",
       "      <th>3911</th>\n",
       "      <td>752-87-01834</td>\n",
       "      <td>훌템</td>\n",
       "      <td>2020-12-28</td>\n",
       "      <td>경기도</td>\n",
       "      <td>군포시</td>\n",
       "      <td>군포첨단산업2로22번길 5, 617호</td>\n",
       "      <td>뽀얀닷컴</td>\n",
       "      <td>이동형 매트리스 세탁 서비스</td>\n",
       "      <td>한국</td>\n",
       "      <td>NaN</td>\n",
       "      <td>...</td>\n",
       "      <td>NaN</td>\n",
       "      <td>NaN</td>\n",
       "      <td>NaN</td>\n",
       "      <td>NaN</td>\n",
       "      <td>NaN</td>\n",
       "      <td>NaN</td>\n",
       "      <td>NaN</td>\n",
       "      <td>NaN</td>\n",
       "      <td>NaN</td>\n",
       "      <td>NaN</td>\n",
       "    </tr>\n",
       "    <tr>\n",
       "      <th>3912</th>\n",
       "      <td>752-86-01410</td>\n",
       "      <td>휴니버스글로벌</td>\n",
       "      <td>2019-06-12</td>\n",
       "      <td>서울</td>\n",
       "      <td>성북구</td>\n",
       "      <td>안암로81, 2층</td>\n",
       "      <td>정밀의료 병원정보시스템</td>\n",
       "      <td>클라우드기반 병의원 정보시스템</td>\n",
       "      <td>한국</td>\n",
       "      <td>클라우드</td>\n",
       "      <td>...</td>\n",
       "      <td>NaN</td>\n",
       "      <td>NaN</td>\n",
       "      <td>NaN</td>\n",
       "      <td>NaN</td>\n",
       "      <td>NaN</td>\n",
       "      <td>NaN</td>\n",
       "      <td>NaN</td>\n",
       "      <td>NaN</td>\n",
       "      <td>NaN</td>\n",
       "      <td>NaN</td>\n",
       "    </tr>\n",
       "    <tr>\n",
       "      <th>3913</th>\n",
       "      <td>411-81-44527</td>\n",
       "      <td>휴먼아이티솔루션</td>\n",
       "      <td>2006-05-24</td>\n",
       "      <td>전라남도</td>\n",
       "      <td>목포시</td>\n",
       "      <td>석현로46, 305호</td>\n",
       "      <td>티온플러스</td>\n",
       "      <td>VR 인지재활 훈련 시스템</td>\n",
       "      <td>한국</td>\n",
       "      <td>VR/AR</td>\n",
       "      <td>...</td>\n",
       "      <td>NaN</td>\n",
       "      <td>NaN</td>\n",
       "      <td>NaN</td>\n",
       "      <td>NaN</td>\n",
       "      <td>NaN</td>\n",
       "      <td>NaN</td>\n",
       "      <td>NaN</td>\n",
       "      <td>NaN</td>\n",
       "      <td>NaN</td>\n",
       "      <td>NaN</td>\n",
       "    </tr>\n",
       "    <tr>\n",
       "      <th>3914</th>\n",
       "      <td>618-81-28526</td>\n",
       "      <td>아이쿠카</td>\n",
       "      <td>2023-02-15</td>\n",
       "      <td>서울</td>\n",
       "      <td>관악구</td>\n",
       "      <td>봉천로 545, 2층 201호 (봉천동,서울창업센터관악)</td>\n",
       "      <td>아이쿠카</td>\n",
       "      <td>돈을 배우는 즐거움 어린이 핀테크 플랫폼</td>\n",
       "      <td>한국</td>\n",
       "      <td>빅데이터/분석</td>\n",
       "      <td>...</td>\n",
       "      <td>NaN</td>\n",
       "      <td>NaN</td>\n",
       "      <td>NaN</td>\n",
       "      <td>NaN</td>\n",
       "      <td>NaN</td>\n",
       "      <td>NaN</td>\n",
       "      <td>NaN</td>\n",
       "      <td>NaN</td>\n",
       "      <td>NaN</td>\n",
       "      <td>NaN</td>\n",
       "    </tr>\n",
       "  </tbody>\n",
       "</table>\n",
       "<p>3914 rows × 178 columns</p>\n",
       "</div>"
      ],
      "text/plain": [
       "     registration_number         name    estdate address_city  \\\n",
       "id                                                              \n",
       "1           178-86-00272         가브린트 2015-11-05           제주   \n",
       "2           384-81-01454       가이드라이브 2019-05-22          서울    \n",
       "3           156-81-00883         가치공간 2018-01-01          서울    \n",
       "4           413-81-06460  갓차모빌라이즈(갓차) 2016-08-24          부산    \n",
       "5           287-87-01121           같다 2018-03-20          서울    \n",
       "...                  ...          ...        ...          ...   \n",
       "3910        821-81-01725        호텔가이드 2019-12-04          서울    \n",
       "3911        752-87-01834           훌템 2020-12-28         경기도    \n",
       "3912        752-86-01410      휴니버스글로벌 2019-06-12           서울   \n",
       "3913        411-81-44527     휴먼아이티솔루션 2006-05-24        전라남도    \n",
       "3914        618-81-28526         아이쿠카 2023-02-15           서울   \n",
       "\n",
       "     address_district                   address_detail       service  \\\n",
       "id                                                                     \n",
       "1                 제주시                    내도1길 23, 320호          와라페이   \n",
       "2                 중구                     청계천로 40, 812호        가이드라이브   \n",
       "3                마포구                   백범로31길 21, 808호          가치공간   \n",
       "4                수영구                       광남로 214, 5층            갓차   \n",
       "5                성동구          성수2가3동 277-43번지 4층 405비호            빼기   \n",
       "...               ...                              ...           ...   \n",
       "3910             노원구                      동일로 1025, 4층           호텔가   \n",
       "3911             군포시              군포첨단산업2로22번길 5, 617호          뽀얀닷컴   \n",
       "3912             성북구                         안암로81, 2층  정밀의료 병원정보시스템   \n",
       "3913             목포시                       석현로46, 305호         티온플러스   \n",
       "3914              관악구  봉천로 545, 2층 201호 (봉천동,서울창업센터관악)          아이쿠카   \n",
       "\n",
       "                      service_details country    category1  ...  \\\n",
       "id                                                          ...   \n",
       "1                    QR코드 기반 간편결제 서비스      한국           결제  ...   \n",
       "2     가이드/도슨트 매니지먼트 기반의 투어 서비스, 랜선 투어      한국          NaN  ...   \n",
       "3              백화점 유휴공간 공유 팝업 스토어 플랫폼      한국  리얼타임 커뮤니케이션  ...   \n",
       "4                  정기구독형 방문 세차 중개 플랫폼      한국  리얼타임 커뮤니케이션  ...   \n",
       "5                    모바일 대형폐기물 수거 플랫폼      한국  리얼타임 커뮤니케이션  ...   \n",
       "...                               ...     ...          ...  ...   \n",
       "3910                    단골추가 숙박예약 플랫폼      한국          NaN  ...   \n",
       "3911                  이동형 매트리스 세탁 서비스      한국          NaN  ...   \n",
       "3912                 클라우드기반 병의원 정보시스템      한국         클라우드  ...   \n",
       "3913                   VR 인지재활 훈련 시스템      한국        VR/AR  ...   \n",
       "3914           돈을 배우는 즐거움 어린이 핀테크 플랫폼      한국      빅데이터/분석  ...   \n",
       "\n",
       "     fd2_edu_schoolname3 fd2_edu_major3  fd2_career_firmname1  \\\n",
       "id                                                              \n",
       "1                    NaN            NaN                   NaN   \n",
       "2                    NaN            NaN                   NaN   \n",
       "3                    NaN            NaN                   NaN   \n",
       "4                    NaN            NaN                   NaN   \n",
       "5                    NaN            NaN                   NaN   \n",
       "...                  ...            ...                   ...   \n",
       "3910                 NaN            NaN                   NaN   \n",
       "3911                 NaN            NaN                   NaN   \n",
       "3912                 NaN            NaN                   NaN   \n",
       "3913                 NaN            NaN                   NaN   \n",
       "3914                 NaN            NaN                   NaN   \n",
       "\n",
       "      fd2_career_rank1  fd2_career_job1 fd2_career_dur1 fd2_career_firmname2  \\\n",
       "id                                                                             \n",
       "1                  NaN              NaN             NaN                  NaN   \n",
       "2                  NaN              NaN             NaN                  NaN   \n",
       "3                  NaN              NaN             NaN                  NaN   \n",
       "4                  NaN              NaN             NaN                  NaN   \n",
       "5                  NaN              NaN             NaN                  NaN   \n",
       "...                ...              ...             ...                  ...   \n",
       "3910               NaN              NaN             NaN                  NaN   \n",
       "3911               NaN              NaN             NaN                  NaN   \n",
       "3912               NaN              NaN             NaN                  NaN   \n",
       "3913               NaN              NaN             NaN                  NaN   \n",
       "3914               NaN              NaN             NaN                  NaN   \n",
       "\n",
       "     fd2_career_rank2 fd2_career_job2 fd2_career_dur2  \n",
       "id                                                     \n",
       "1                 NaN             NaN             NaN  \n",
       "2                 NaN             NaN             NaN  \n",
       "3                 NaN             NaN             NaN  \n",
       "4                 NaN             NaN             NaN  \n",
       "5                 NaN             NaN             NaN  \n",
       "...               ...             ...             ...  \n",
       "3910              NaN             NaN             NaN  \n",
       "3911              NaN             NaN             NaN  \n",
       "3912              NaN             NaN             NaN  \n",
       "3913              NaN             NaN             NaN  \n",
       "3914              NaN             NaN             NaN  \n",
       "\n",
       "[3914 rows x 178 columns]"
      ]
     },
     "execution_count": 9,
     "metadata": {},
     "output_type": "execute_result"
    }
   ],
   "source": [
    "startup = pd.read_excel(\"C://플랫폼 SME 연구센터/스타트업 데이터 업데이트/23-11-03_스타트업 데이터.xlsx\", sheet_name=2, header=1, index_col=0)\n",
    "startup"
   ]
  },
  {
   "cell_type": "code",
   "execution_count": 10,
   "id": "6d85a915",
   "metadata": {},
   "outputs": [],
   "source": [
    "startup['est_dt'] = startup['estdate'].dt.year\n",
    "startup['ed_dt'] = startup['end_dt'].dt.year"
   ]
  },
  {
   "cell_type": "code",
   "execution_count": 11,
   "id": "60757e15",
   "metadata": {},
   "outputs": [],
   "source": [
    "startup['event'] = startup['ed_dt'].isnull().apply(lambda x: 0 if x else 1)\n",
    "startup['cld_dt'] = startup['ed_dt']"
   ]
  },
  {
   "cell_type": "code",
   "execution_count": 12,
   "id": "e0103097",
   "metadata": {},
   "outputs": [],
   "source": [
    "startup['cld_dt'] = startup['cld_dt'].fillna(2023)"
   ]
  },
  {
   "cell_type": "code",
   "execution_count": 13,
   "id": "b7d385df",
   "metadata": {},
   "outputs": [],
   "source": [
    "startup['time'] = startup['cld_dt']-startup['est_dt']"
   ]
  },
  {
   "cell_type": "code",
   "execution_count": 71,
   "id": "9e78ad62",
   "metadata": {},
   "outputs": [],
   "source": [
    "startup_1 = startup.drop(index=[1691, 1709, 3216, 3517, 3727])"
   ]
  },
  {
   "cell_type": "code",
   "execution_count": 84,
   "id": "7a46dcff",
   "metadata": {},
   "outputs": [],
   "source": [
    "sa_df2 = startup_1.loc[:,['name','platform','est_dt','ed_dt','time','event']]"
   ]
  },
  {
   "cell_type": "code",
   "execution_count": 85,
   "id": "338649d1",
   "metadata": {},
   "outputs": [],
   "source": [
    "sa_df2_in21y = sa_df2[(sa_df2['est_dt']<2022) & (sa_df2['est_dt']>1999)]"
   ]
  },
  {
   "cell_type": "markdown",
   "id": "ecea7b41",
   "metadata": {},
   "source": [
    "# 폐업 기업수"
   ]
  },
  {
   "cell_type": "markdown",
   "id": "7ce1dc7b",
   "metadata": {},
   "source": [
    "## 23년 폐업(23.01~23.10)"
   ]
  },
  {
   "cell_type": "code",
   "execution_count": 86,
   "id": "4b3b7f87",
   "metadata": {
    "scrolled": true
   },
   "outputs": [
    {
     "name": "stdout",
     "output_type": "stream",
     "text": [
      "2021     3\n",
      "2020     4\n",
      "2019    17\n",
      "2018     7\n",
      "2017    13\n",
      "2016    11\n",
      "2015     8\n",
      "2014     2\n",
      "2012     1\n",
      "2011     2\n",
      "2010     1\n",
      "Name: est_dt, dtype: int64\n",
      "총 기업수: 69\n"
     ]
    }
   ],
   "source": [
    "print(sa_df2_in21y[sa_df2_in21y['ed_dt']==2023]['est_dt'].value_counts().sort_index(ascending=False))\n",
    "print(\"총 기업수:\",sa_df2_in21y[sa_df2_in21y['ed_dt']==2023]['est_dt'].value_counts().sum())"
   ]
  },
  {
   "cell_type": "markdown",
   "id": "11378469",
   "metadata": {},
   "source": [
    "## 22년 폐업"
   ]
  },
  {
   "cell_type": "code",
   "execution_count": 87,
   "id": "2779274a",
   "metadata": {
    "scrolled": false
   },
   "outputs": [
    {
     "name": "stdout",
     "output_type": "stream",
     "text": [
      "2021     5\n",
      "2020    10\n",
      "2019     8\n",
      "2018    12\n",
      "2017    13\n",
      "2016    10\n",
      "2015     7\n",
      "2014     5\n",
      "2013     4\n",
      "2012     3\n",
      "2010     1\n",
      "2001     1\n",
      "2000     1\n",
      "Name: est_dt, dtype: int64\n",
      "총 기업수: 80\n"
     ]
    }
   ],
   "source": [
    "print(sa_df2_in21y[sa_df2_in21y['ed_dt']==2022]['est_dt'].value_counts().sort_index(ascending=False))\n",
    "print(\"총 기업수:\",sa_df2_in21y[sa_df2_in21y['ed_dt']==2022]['est_dt'].value_counts().sum())"
   ]
  },
  {
   "cell_type": "code",
   "execution_count": 88,
   "id": "4f2864ff",
   "metadata": {
    "scrolled": true
   },
   "outputs": [
    {
     "name": "stdout",
     "output_type": "stream",
     "text": [
      "2021    3\n",
      "2020    5\n",
      "2019    6\n",
      "2018    4\n",
      "2017    3\n",
      "2016    6\n",
      "2015    3\n",
      "2014    3\n",
      "2013    1\n",
      "2012    2\n",
      "2001    1\n",
      "Name: est_dt, dtype: int64\n",
      "총 기업수: 37\n"
     ]
    }
   ],
   "source": [
    "print(sa_df2_in21y[(sa_df2_in21y['ed_dt']==2022) & (sa_df2_in21y['platform']=='플랫폼')]['est_dt'].value_counts().sort_index(ascending=False))\n",
    "print(\"총 기업수:\",sa_df2_in21y[(sa_df2_in21y['ed_dt']==2022) & (sa_df2_in21y['platform']=='플랫폼')]['est_dt'].value_counts().sum())"
   ]
  },
  {
   "cell_type": "code",
   "execution_count": 89,
   "id": "bfed42a6",
   "metadata": {
    "scrolled": false
   },
   "outputs": [
    {
     "name": "stdout",
     "output_type": "stream",
     "text": [
      "2021     2\n",
      "2020     5\n",
      "2019     2\n",
      "2018     8\n",
      "2017    10\n",
      "2016     4\n",
      "2015     4\n",
      "2014     2\n",
      "2013     3\n",
      "2012     1\n",
      "2010     1\n",
      "2000     1\n",
      "Name: est_dt, dtype: int64\n",
      "총 기업수: 43\n"
     ]
    }
   ],
   "source": [
    "print(sa_df2_in21y[(sa_df2_in21y['ed_dt']==2022) & (sa_df2_in21y['platform']=='비플랫폼')]['est_dt'].value_counts().sort_index(ascending=False))\n",
    "print(\"총 기업수:\",sa_df2_in21y[(sa_df2_in21y['ed_dt']==2022) & (sa_df2_in21y['platform']=='비플랫폼')]['est_dt'].value_counts().sum())"
   ]
  },
  {
   "cell_type": "markdown",
   "id": "022b4ec4",
   "metadata": {},
   "source": [
    "## 21년 폐업"
   ]
  },
  {
   "cell_type": "code",
   "execution_count": 90,
   "id": "6c86c62d",
   "metadata": {
    "scrolled": true
   },
   "outputs": [
    {
     "name": "stdout",
     "output_type": "stream",
     "text": [
      "2021     1\n",
      "2020     1\n",
      "2019     6\n",
      "2018     4\n",
      "2017     5\n",
      "2016    11\n",
      "2015     3\n",
      "2014     4\n",
      "2013     1\n",
      "2012     2\n",
      "2011     2\n",
      "2009     1\n",
      "Name: est_dt, dtype: int64\n",
      "총 기업수: 41\n"
     ]
    }
   ],
   "source": [
    "print(sa_df2_in21y[sa_df2_in21y['ed_dt']==2021]['est_dt'].value_counts().sort_index(ascending=False))\n",
    "print(\"총 기업수:\",sa_df2_in21y[sa_df2_in21y['ed_dt']==2021]['est_dt'].value_counts().sum())"
   ]
  },
  {
   "cell_type": "code",
   "execution_count": 91,
   "id": "50581ddd",
   "metadata": {
    "scrolled": true
   },
   "outputs": [
    {
     "name": "stdout",
     "output_type": "stream",
     "text": [
      "2019    2\n",
      "2018    2\n",
      "2017    3\n",
      "2016    3\n",
      "2015    2\n",
      "2014    2\n",
      "2011    2\n",
      "Name: est_dt, dtype: int64\n",
      "총 기업수: 16\n"
     ]
    }
   ],
   "source": [
    "print(sa_df2_in21y[(sa_df2_in21y['ed_dt']==2021) & (sa_df2_in21y['platform']=='플랫폼')]['est_dt'].value_counts().sort_index(ascending=False))\n",
    "print(\"총 기업수:\",sa_df2_in21y[(sa_df2_in21y['ed_dt']==2021) & (sa_df2_in21y['platform']=='플랫폼')]['est_dt'].value_counts().sum())"
   ]
  },
  {
   "cell_type": "code",
   "execution_count": 92,
   "id": "c2cb6639",
   "metadata": {
    "scrolled": true
   },
   "outputs": [
    {
     "name": "stdout",
     "output_type": "stream",
     "text": [
      "2021    1\n",
      "2020    1\n",
      "2019    4\n",
      "2018    2\n",
      "2017    2\n",
      "2016    8\n",
      "2015    1\n",
      "2014    2\n",
      "2013    1\n",
      "2012    2\n",
      "2009    1\n",
      "Name: est_dt, dtype: int64\n",
      "총 기업수: 25\n"
     ]
    }
   ],
   "source": [
    "print(sa_df2_in21y[(sa_df2_in21y['ed_dt']==2021) & (sa_df2_in21y['platform']=='비플랫폼')]['est_dt'].value_counts().sort_index(ascending=False))\n",
    "print(\"총 기업수:\",sa_df2_in21y[(sa_df2_in21y['ed_dt']==2021) & (sa_df2_in21y['platform']=='비플랫폼')]['est_dt'].value_counts().sum())"
   ]
  },
  {
   "cell_type": "markdown",
   "id": "662973e8",
   "metadata": {},
   "source": [
    "# 설립 기업수"
   ]
  },
  {
   "cell_type": "markdown",
   "id": "459d3a09",
   "metadata": {},
   "source": [
    "## 22년 설립"
   ]
  },
  {
   "cell_type": "code",
   "execution_count": 93,
   "id": "95ae71bd",
   "metadata": {
    "scrolled": false
   },
   "outputs": [
    {
     "data": {
      "text/plain": [
       "2022    79\n",
       "Name: est_dt, dtype: int64"
      ]
     },
     "execution_count": 93,
     "metadata": {},
     "output_type": "execute_result"
    }
   ],
   "source": [
    "sa_df2[sa_df2['est_dt']==2022]['est_dt'].value_counts().sort_index(ascending=False)"
   ]
  },
  {
   "cell_type": "code",
   "execution_count": 94,
   "id": "075ee2da",
   "metadata": {
    "scrolled": false
   },
   "outputs": [
    {
     "data": {
      "text/plain": [
       "2022    27\n",
       "Name: est_dt, dtype: int64"
      ]
     },
     "execution_count": 94,
     "metadata": {},
     "output_type": "execute_result"
    }
   ],
   "source": [
    "sa_df2[(sa_df2['est_dt']==2022) & (sa_df2['platform']=='플랫폼')]['est_dt'].value_counts().sort_index(ascending=False)"
   ]
  },
  {
   "cell_type": "code",
   "execution_count": 95,
   "id": "29210190",
   "metadata": {
    "scrolled": false
   },
   "outputs": [
    {
     "data": {
      "text/plain": [
       "2022    52\n",
       "Name: est_dt, dtype: int64"
      ]
     },
     "execution_count": 95,
     "metadata": {},
     "output_type": "execute_result"
    }
   ],
   "source": [
    "sa_df2[(sa_df2['est_dt']==2022) & (sa_df2['platform']=='비플랫폼')]['est_dt'].value_counts().sort_index(ascending=False)"
   ]
  },
  {
   "cell_type": "markdown",
   "id": "88382f2a",
   "metadata": {},
   "source": [
    "## 21년 설립"
   ]
  },
  {
   "cell_type": "code",
   "execution_count": 96,
   "id": "27033933",
   "metadata": {
    "scrolled": true
   },
   "outputs": [
    {
     "data": {
      "text/plain": [
       "2021    322\n",
       "Name: est_dt, dtype: int64"
      ]
     },
     "execution_count": 96,
     "metadata": {},
     "output_type": "execute_result"
    }
   ],
   "source": [
    "sa_df2_in21y[sa_df2_in21y['est_dt']==2021]['est_dt'].value_counts().sort_index(ascending=False)"
   ]
  },
  {
   "cell_type": "code",
   "execution_count": 97,
   "id": "e8b542d8",
   "metadata": {
    "scrolled": true
   },
   "outputs": [
    {
     "data": {
      "text/plain": [
       "2021    116\n",
       "Name: est_dt, dtype: int64"
      ]
     },
     "execution_count": 97,
     "metadata": {},
     "output_type": "execute_result"
    }
   ],
   "source": [
    "sa_df2_in21y[(sa_df2_in21y['est_dt']==2021) & (sa_df2_in21y['platform']=='플랫폼')]['est_dt'].value_counts().sort_index(ascending=False)"
   ]
  },
  {
   "cell_type": "code",
   "execution_count": 98,
   "id": "2c3461a5",
   "metadata": {
    "scrolled": true
   },
   "outputs": [
    {
     "data": {
      "text/plain": [
       "2021    206\n",
       "Name: est_dt, dtype: int64"
      ]
     },
     "execution_count": 98,
     "metadata": {},
     "output_type": "execute_result"
    }
   ],
   "source": [
    "sa_df2_in21y[(sa_df2_in21y['est_dt']==2021) & (sa_df2_in21y['platform']=='비플랫폼')]['est_dt'].value_counts().sort_index(ascending=False)"
   ]
  },
  {
   "cell_type": "markdown",
   "id": "8b6df163",
   "metadata": {},
   "source": [
    "## 20년 설립"
   ]
  },
  {
   "cell_type": "code",
   "execution_count": 99,
   "id": "7b1cce12",
   "metadata": {},
   "outputs": [
    {
     "data": {
      "text/plain": [
       "2020    466\n",
       "Name: est_dt, dtype: int64"
      ]
     },
     "execution_count": 99,
     "metadata": {},
     "output_type": "execute_result"
    }
   ],
   "source": [
    "sa_df2_in21y[sa_df2_in21y['est_dt']==2020]['est_dt'].value_counts().sort_index(ascending=False)"
   ]
  },
  {
   "cell_type": "markdown",
   "id": "4e3e6763",
   "metadata": {},
   "source": [
    "## 19년 설립"
   ]
  },
  {
   "cell_type": "code",
   "execution_count": 100,
   "id": "8f76bdce",
   "metadata": {},
   "outputs": [
    {
     "data": {
      "text/plain": [
       "2019    541\n",
       "Name: est_dt, dtype: int64"
      ]
     },
     "execution_count": 100,
     "metadata": {},
     "output_type": "execute_result"
    }
   ],
   "source": [
    "sa_df2_in21y[sa_df2_in21y['est_dt']==2019]['est_dt'].value_counts().sort_index(ascending=False)"
   ]
  },
  {
   "cell_type": "markdown",
   "id": "9ee473dd",
   "metadata": {},
   "source": [
    "# 생존분석(카플란-마이어)"
   ]
  },
  {
   "cell_type": "code",
   "execution_count": 101,
   "id": "9bfd59fc",
   "metadata": {},
   "outputs": [
    {
     "data": {
      "image/png": "[encoded data removed]",
      "text/plain": [
       "<Figure size 640x480 with 1 Axes>"
      ]
     },
     "metadata": {},
     "output_type": "display_data"
    },
    {
     "data": {
      "text/html": [
       "<div>\n",
       "<style scoped>\n",
       "    .dataframe tbody tr th:only-of-type {\n",
       "        vertical-align: middle;\n",
       "    }\n",
       "\n",
       "    .dataframe tbody tr th {\n",
       "        vertical-align: top;\n",
       "    }\n",
       "\n",
       "    .dataframe thead th {\n",
       "        text-align: right;\n",
       "    }\n",
       "</style>\n",
       "<table border=\"1\" class=\"dataframe\">\n",
       "  <tbody>\n",
       "    <tr>\n",
       "      <th>t_0</th>\n",
       "      <td>-1</td>\n",
       "    </tr>\n",
       "    <tr>\n",
       "      <th>null_distribution</th>\n",
       "      <td>chi squared</td>\n",
       "    </tr>\n",
       "    <tr>\n",
       "      <th>degrees_of_freedom</th>\n",
       "      <td>1</td>\n",
       "    </tr>\n",
       "    <tr>\n",
       "      <th>test_name</th>\n",
       "      <td>logrank_test</td>\n",
       "    </tr>\n",
       "  </tbody>\n",
       "</table>\n",
       "</div><table border=\"1\" class=\"dataframe\">\n",
       "  <thead>\n",
       "    <tr style=\"text-align: right;\">\n",
       "      <th></th>\n",
       "      <th>test_statistic</th>\n",
       "      <th>p</th>\n",
       "      <th>-log2(p)</th>\n",
       "    </tr>\n",
       "  </thead>\n",
       "  <tbody>\n",
       "    <tr>\n",
       "      <th>0</th>\n",
       "      <td>5.30</td>\n",
       "      <td>0.02</td>\n",
       "      <td>5.55</td>\n",
       "    </tr>\n",
       "  </tbody>\n",
       "</table>"
      ],
      "text/latex": [
       "\\begin{tabular}{lrrr}\n",
       " & test_statistic & p & -log2(p) \\\\\n",
       "0 & 5.30 & 0.02 & 5.55 \\\\\n",
       "\\end{tabular}\n"
      ],
      "text/plain": [
       "<lifelines.StatisticalResult: logrank_test>\n",
       "               t_0 = -1\n",
       " null_distribution = chi squared\n",
       "degrees_of_freedom = 1\n",
       "         test_name = logrank_test\n",
       "\n",
       "---\n",
       " test_statistic    p  -log2(p)\n",
       "           5.30 0.02      5.55"
      ]
     },
     "metadata": {},
     "output_type": "display_data"
    },
    {
     "name": "stdout",
     "output_type": "stream",
     "text": [
      "None\n"
     ]
    }
   ],
   "source": [
    "kmf = KaplanMeierFitter()\n",
    "\n",
    "# 데이터를 그룹별로 모델에 적합\n",
    "for group in sa_df2_in21y['platform'].unique():\n",
    "    group_data = sa_df2_in21y[sa_df2_in21y['platform'] == group]\n",
    "    kmf.fit(group_data['time'], event_observed=group_data['event'], label=group)\n",
    "    ax=plt.subplot()\n",
    "    kmf.survival_function_.plot(ax=ax)\n",
    "    #    kmf.plot(label=group)\n",
    "\n",
    "# 생존 곡선 시각화\n",
    "plt.title('Kaplan-Meier Estimate by Group')\n",
    "plt.rc(\"font\", family=\"NanumSquare Neo OTF Heavy\")\n",
    "plt.xlabel('Time')\n",
    "plt.ylabel('Survival Probability')\n",
    "plt.show()\n",
    "\n",
    "# 로그랭크 테스트 수행\n",
    "results = logrank_test(sa_df2_in21y['time'][sa_df2_in21y['platform'] == '플랫폼'], sa_df2_in21y['time'][sa_df2_in21y['platform'] == '비플랫폼'],\n",
    "                      event_observed_A=sa_df2_in21y['event'][sa_df2_in21y['platform'] == '플랫폼'],\n",
    "                      event_observed_B=sa_df2_in21y['event'][sa_df2_in21y['platform'] == '비플랫폼'])\n",
    "\n",
    "print(results.print_summary())"
   ]
  },
  {
   "cell_type": "code",
   "execution_count": 102,
   "id": "cd0d1144",
   "metadata": {},
   "outputs": [
    {
     "name": "stdout",
     "output_type": "stream",
     "text": [
      "생존비율:\n",
      "               플랫폼\n",
      "timeline          \n",
      "0.0       1.000000\n",
      "1.0       0.994946\n",
      "2.0       0.987004\n",
      "3.0       0.975207\n",
      "4.0       0.954283\n",
      "5.0       0.943043\n",
      "6.0       0.928580\n",
      "7.0       0.902989\n",
      "8.0       0.885133\n",
      "9.0       0.877436\n",
      "10.0      0.854793\n",
      "11.0      0.847360\n",
      "12.0      0.835909\n",
      "13.0      0.835909\n",
      "14.0      0.835909\n",
      "15.0      0.835909\n",
      "16.0      0.835909\n",
      "17.0      0.835909\n",
      "18.0      0.835909\n",
      "19.0      0.835909\n",
      "20.0      0.835909\n",
      "21.0      0.743030\n",
      "22.0      0.743030\n",
      "23.0      0.743030\n"
     ]
    }
   ],
   "source": [
    "# 데이터를 모델에 적합\n",
    "kmf.fit(sa_df2_in21y[sa_df2_in21y['platform']=='플랫폼']['time'], event_observed=sa_df2_in21y[sa_df2_in21y['platform']=='플랫폼']['event'])\n",
    "\n",
    "# 생존비율 구하기\n",
    "survival_probability = kmf.survival_function_\n",
    "\n",
    "# 누적 생존비율 구하기\n",
    "cumulative_survival_probability = kmf.predict(sa_df2_in21y['time'])\n",
    "\n",
    "# 결과 출력\n",
    "print(\"생존비율:\")\n",
    "print(survival_probability)"
   ]
  },
  {
   "cell_type": "code",
   "execution_count": 103,
   "id": "23fe6d50",
   "metadata": {},
   "outputs": [
    {
     "name": "stdout",
     "output_type": "stream",
     "text": [
      "생존비율:\n",
      "               플랫폼\n",
      "timeline          \n",
      "0.0       0.999173\n",
      "1.0       0.997106\n",
      "2.0       0.990905\n",
      "3.0       0.984137\n",
      "4.0       0.970137\n",
      "5.0       0.953389\n",
      "6.0       0.938443\n",
      "7.0       0.924843\n",
      "8.0       0.914837\n",
      "9.0       0.900013\n",
      "10.0      0.897052\n",
      "11.0      0.897052\n",
      "12.0      0.882101\n",
      "13.0      0.875567\n",
      "14.0      0.875567\n",
      "15.0      0.865503\n",
      "16.0      0.865503\n",
      "17.0      0.865503\n",
      "18.0      0.865503\n",
      "19.0      0.865503\n",
      "20.0      0.865503\n",
      "21.0      0.865503\n",
      "22.0      0.824289\n",
      "23.0      0.824289\n"
     ]
    }
   ],
   "source": [
    "# 데이터를 모델에 적합\n",
    "kmf.fit(sa_df2_in21y[sa_df2_in21y['platform']=='비플랫폼']['time'], event_observed=sa_df2_in21y[sa_df2_in21y['platform']=='비플랫폼']['event'])\n",
    "\n",
    "# 생존비율 구하기\n",
    "survival_probability = kmf.survival_function_\n",
    "\n",
    "# 누적 생존비율 구하기\n",
    "cumulative_survival_probability = kmf.predict(sa_df2_in21y['time'])\n",
    "\n",
    "# 결과 출력\n",
    "print(\"생존비율:\")\n",
    "print(survival_probability)"
   ]
  },
  {
   "cell_type": "code",
   "execution_count": null,
   "id": "67a21949",
   "metadata": {},
   "outputs": [],
   "source": []
  }
 ],
 "metadata": {
  "kernelspec": {
   "display_name": "Python 3 (ipykernel)",
   "language": "python",
   "name": "python3"
  },
  "language_info": {
   "codemirror_mode": {
    "name": "ipython",
    "version": 3
   },
   "file_extension": ".py",
   "mimetype": "text/x-python",
   "name": "python",
   "nbconvert_exporter": "python",
   "pygments_lexer": "ipython3",
   "version": "3.9.13"
  }
 },
 "nbformat": 4,
 "nbformat_minor": 5
}
