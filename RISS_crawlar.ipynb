{
 "cells": [
  {
   "cell_type": "code",
   "execution_count": 1,
   "id": "56194b6a",
   "metadata": {},
   "outputs": [],
   "source": [
    "import requests as req\n",
    "from bs4 import BeautifulSoup as bs\n",
    "import sys\n",
    "import urllib.request\n",
    "from urllib.parse import quote\n",
    "import pandas as pd"
   ]
  },
  {
   "cell_type": "code",
   "execution_count": 9,
   "id": "04d9e057",
   "metadata": {},
   "outputs": [
    {
     "name": "stdout",
     "output_type": "stream",
     "text": [
      "페이지 수 : 1\n",
      "검색어 : 인체치수\n",
      "10 10 10 10 10 10\n"
     ]
    }
   ],
   "source": [
    "# 전체 코드\n",
    "\n",
    "## RISS에서 크롤링하고자 하는 검색어 입력 -> URL\n",
    "\n",
    "page = int(input(\"페이지 수 : \"))\n",
    "search = input(\"검색어 : \")\n",
    "\n",
    "def URL(search, page_num):\n",
    "    URL = \"https://www.riss.kr/search/Search.do?isDetailSearch=N&searchGubun=true&viewYn=OP&query=\"+str(search) \\\n",
    "    +\"&queryText=&iStartCount=\"+str(page_num)+\"&iGroupView=5&icate=all&colName=re_a_kor&exQuery=&exQueryText=&order=%2FDESC&onHanja=false&strSort=RANK&pageScale=10&orderBy=&fsearchMethod=search&isFDetailSearch=N&sflag=1&searchQuery=\" \\\n",
    "    +str(search)+\"&fsearchSort=&fsearchOrder=&limiterList=&limiterListText=&facetList=&facetListText=&fsearchDB=&resultKeyword=\" \\\n",
    "    +str(search)+\"&pageNumber=\"+str(page_num)+\"&p_year1=&p_year2=&dorg_storage=&mat_type=&mat_subtype=&fulltext_kind=&t_gubun=&learning_type=&language_code=&ccl_code=&language=&inside_outside=&fric_yn=&image_yn=&regnm=&gubun=&kdc=&ttsUseYn=\"\n",
    "    return URL\n",
    "\n",
    "## 새로운 데이터프레임 만들기\n",
    "\n",
    "df_info = pd.DataFrame(columns = ['저자', '국문 제목', '수록지','연도', '국문 요약', '링크'])\n",
    "\n",
    "authors = []\n",
    "k_titles = []\n",
    "books = []\n",
    "year = []\n",
    "abstracts = []\n",
    "\n",
    "links = []\n",
    "\n",
    "headers = {'User-Agent' : 'Mozilla/5.0 (Windows NT 10.0; Win64; x64) AppleWebKit/537.36 (KHTML, like Gecko) Chrome/96.0.4664.45 Safari/537.36'}\n",
    "\n",
    "for i in range(page) :\n",
    "    page_num = i * 10\n",
    "    # print(page_num)\n",
    "    url = URL(search, page_num)\n",
    "    res = req.get(url.format(search, page_num, search, search), headers = headers)\n",
    "    html = bs(res.text, 'html.parser')\n",
    "    items = html.findAll('div', {'class' : 'cont'})\n",
    "\n",
    "    \n",
    "    for item in items :\n",
    "        # print(item)\n",
    "        r_items = item.findAll('p', {'class' : 'title'})\n",
    "        \n",
    "        try : \n",
    "            abstract = item.find(\"p\", {'class' : 'preAbstract'}).text.strip()\n",
    "            abstracts.append(abstract)\n",
    "        except Exception as ex :\n",
    "            abstracts.append(\"\")\n",
    "        # print(abstract)\n",
    "        # print(\"************\")\n",
    "    \n",
    "        for detail in r_items :\n",
    "            links.append(\"http://www.riss.kr\"+detail.find(\"a\")[\"href\"])\n",
    "            k_titles.append(detail.find(\"a\").text)\n",
    "        \n",
    "            \n",
    "    for item in items :\n",
    "        r_items = item.findAll('p', {'class' : 'etc'})\n",
    "        for detail in r_items :\n",
    "            authors.append(item.find(\"span\", {'class' : 'writer'}).text)\n",
    "            books.append(item.find(\"span\", {'class' : 'assigned'}).text)\n",
    "            year.append(item.find(\"span\", {'class' : ''}).text)\n",
    "          \n",
    "    #print(len(links), len(authors), len(k_titles), len(books), len(year), len(abstracts))\n",
    "\n",
    "df_info['저자'] = authors\n",
    "df_info['국문 제목'] = k_titles\n",
    "df_info['수록지'] = books\n",
    "df_info['연도'] = year\n",
    "df_info['국문 요약'] = abstracts\n",
    "df_info['링크'] = links\n",
    "\n",
    "#with open('./paper-a.txt', 'w', encoding = 'UTF-8') as f :\n",
    " #   for abstract in abstracts :\n",
    "  #      f.write(abstract + '\\n'+'\\n'+\"end\"+'\\n'+'\\n')"
   ]
  },
  {
   "cell_type": "code",
   "execution_count": 11,
   "id": "02f16353",
   "metadata": {
    "scrolled": true
   },
   "outputs": [],
   "source": [
    "df_info.to_csv(\"./paper-a.csv\", na_rep='NaN', encoding=\"utf-8-sig\")"
   ]
  }
 ],
 "metadata": {
  "kernelspec": {
   "display_name": "Python 3 (ipykernel)",
   "language": "python",
   "name": "python3"
  },
  "language_info": {
   "codemirror_mode": {
    "name": "ipython",
    "version": 3
   },
   "file_extension": ".py",
   "mimetype": "text/x-python",
   "name": "python",
   "nbconvert_exporter": "python",
   "pygments_lexer": "ipython3",
   "version": "3.9.13"
  }
 },
 "nbformat": 4,
 "nbformat_minor": 5
}
